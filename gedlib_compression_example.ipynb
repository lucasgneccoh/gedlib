{
  "nbformat": 4,
  "nbformat_minor": 0,
  "metadata": {
    "colab": {
      "name": "gedlib_compression_example.ipynb",
      "provenance": [],
      "collapsed_sections": [],
      "authorship_tag": "ABX9TyOLYYWupP3D9qgrfWo5RwyA",
      "include_colab_link": true
    },
    "kernelspec": {
      "name": "python3",
      "display_name": "Python 3"
    }
  },
  "cells": [
    {
      "cell_type": "markdown",
      "metadata": {
        "id": "view-in-github",
        "colab_type": "text"
      },
      "source": [
        "<a href=\"https://colab.research.google.com/github/lucasgneccoh/gedlib/blob/master/gedlib_compression_example.ipynb\" target=\"_parent\"><img src=\"https://colab.research.google.com/assets/colab-badge.svg\" alt=\"Open In Colab\"/></a>"
      ]
    },
    {
      "cell_type": "markdown",
      "metadata": {
        "id": "HstzyDbDvXmC"
      },
      "source": [
        "# Guided example\r\n",
        "In this notebook you will see how to install and run `GEDLIB` for compressing collections of graphs in `gxl` format"
      ]
    },
    {
      "cell_type": "markdown",
      "metadata": {
        "id": "Cco0zqQeGmOb"
      },
      "source": [
        "### Install and run\r\n",
        "To install and run the compression part of `GEDLIB` you have to \r\n",
        "  1. Clone the repository\r\n",
        "  2. Install `GEDLIB`  \r\n",
        "  3. Go to the compression folder and run the `setup.py` to ready up all the folders\r\n",
        "  4. Compile the test code\r\n",
        "  5. Run it using a bash script to simplify or directly from the terminal\r\n"
      ]
    },
    {
      "cell_type": "code",
      "metadata": {
        "id": "6P4J_9Ue7_Qe"
      },
      "source": [
        "import os\r\n",
        "import matplotlib.pyplot as plt\r\n",
        "import pandas as pd\r\n",
        "import re\r\n",
        "import seaborn as sns\r\n",
        "import numpy as np"
      ],
      "execution_count": 49,
      "outputs": []
    },
    {
      "cell_type": "code",
      "metadata": {
        "id": "QE3mXeTBuHoj",
        "colab": {
          "base_uri": "https://localhost:8080/"
        },
        "outputId": "13a0b441-0e50-4765-a1f4-bedbc61bc0c0"
      },
      "source": [
        "# 1. Clone the repository\r\n",
        "# It will be in /content/gedlib\r\n",
        "%cd /content\r\n",
        "if os.path.isdir('gedlib'):\r\n",
        "  %rm -r gedlib\r\n",
        "!git clone https://github.com/lucasgneccoh/gedlib.git"
      ],
      "execution_count": 5,
      "outputs": [
        {
          "output_type": "stream",
          "text": [
            "/content\n",
            "Cloning into 'gedlib'...\n",
            "remote: Enumerating objects: 18, done.\u001b[K\n",
            "remote: Counting objects: 100% (18/18), done.\u001b[K\n",
            "remote: Compressing objects: 100% (18/18), done.\u001b[K\n",
            "remote: Total 194396 (delta 6), reused 0 (delta 0), pack-reused 194378\u001b[K\n",
            "Receiving objects: 100% (194396/194396), 535.14 MiB | 20.81 MiB/s, done.\n",
            "Resolving deltas: 100% (132404/132404), done.\n",
            "Checking out files: 100% (155594/155594), done.\n"
          ],
          "name": "stdout"
        }
      ]
    },
    {
      "cell_type": "code",
      "metadata": {
        "colab": {
          "base_uri": "https://localhost:8080/"
        },
        "id": "5FbH2oHZufWr",
        "outputId": "62a21010-7512-4d10-94d7-c6bb4363b685"
      },
      "source": [
        "%cd /content/gedlib"
      ],
      "execution_count": 6,
      "outputs": [
        {
          "output_type": "stream",
          "text": [
            "/content/gedlib\n"
          ],
          "name": "stdout"
        }
      ]
    },
    {
      "cell_type": "code",
      "metadata": {
        "id": "Q8RliVtbuyhM"
      },
      "source": [
        "# 2. Install GEDLIB\r\n",
        "# Comment the %%capture line if you want to see the text output\r\n",
        "%%capture\r\n",
        "!python install.py --lib gxl"
      ],
      "execution_count": 7,
      "outputs": []
    },
    {
      "cell_type": "code",
      "metadata": {
        "colab": {
          "base_uri": "https://localhost:8080/"
        },
        "id": "tC_hAddNwPpe",
        "outputId": "4aa86c19-73f1-4dd5-94e6-cebddc84e3b4"
      },
      "source": [
        "# 3. Go the gedlib/compression and run setup.py\r\n",
        "%cd /content/gedlib/compression\r\n",
        "!python setup.py"
      ],
      "execution_count": 9,
      "outputs": [
        {
          "output_type": "stream",
          "text": [
            "/content/gedlib/compression\n",
            "Python 3.7.10\n",
            "acyclic...done\n",
            "AIDS...done\n",
            "mao...done\n",
            "pah...done\n",
            "Mutagenicity...done\n",
            "msts_no_w...done\n",
            "msts_int_w...done\n",
            "msts_float_w...done\n",
            "Original files copied\n",
            "Launching compression\n",
            "This may take some time (2 min max)\n",
            "Compressing...\n",
            "acyclic\n",
            "AIDS\n",
            "mao\n",
            "pah\n",
            "Mutagenicity\n",
            "msts_float_w\n",
            "msts_int_w\n",
            "msts_no_w\n",
            "Extracting...\n",
            "rm: cannot remove 'extract': No such file or directory\n",
            "acyclic\n",
            "AIDS\n",
            "mao\n",
            "pah\n",
            "Mutagenicity\n",
            "msts_float_w\n",
            "msts_int_w\n",
            "msts_no_w\n",
            "Done compressing and timing\n",
            "Original collections copied and compressed. See data/orig_datasets_to_tar/tar_times.txt for the times taken for compression and decompression using tar.bz\n"
          ],
          "name": "stdout"
        }
      ]
    },
    {
      "cell_type": "code",
      "metadata": {
        "colab": {
          "base_uri": "https://localhost:8080/"
        },
        "id": "x-aLuN0Qw5ND",
        "outputId": "b79cd6be-e01d-4b81-d5bb-2150775e6a18"
      },
      "source": [
        "# 4. Compile the test code\r\n",
        "%cd /content/gedlib/compression/build\r\n",
        "!cmake ..\r\n",
        "!make"
      ],
      "execution_count": 10,
      "outputs": [
        {
          "output_type": "stream",
          "text": [
            "/content/gedlib/compression/build\n",
            "-- The C compiler identification is GNU 7.5.0\n",
            "-- The CXX compiler identification is GNU 7.5.0\n",
            "-- Check for working C compiler: /usr/bin/cc\n",
            "-- Check for working C compiler: /usr/bin/cc -- works\n",
            "-- Detecting C compiler ABI info\n",
            "-- Detecting C compiler ABI info - done\n",
            "-- Detecting C compile features\n",
            "-- Detecting C compile features - done\n",
            "-- Check for working CXX compiler: /usr/bin/c++\n",
            "-- Check for working CXX compiler: /usr/bin/c++ -- works\n",
            "-- Detecting CXX compiler ABI info\n",
            "-- Detecting CXX compiler ABI info - done\n",
            "-- Detecting CXX compile features\n",
            "-- Detecting CXX compile features - done\n",
            "-- Building GEDLIB with build type 'Release', as none was specified.\n",
            "-- Configuring done\n",
            "-- Generating done\n",
            "-- Build files have been written to: /content/gedlib/compression/build\n",
            "\u001b[35m\u001b[1mScanning dependencies of target abc\u001b[0m\n",
            "[ 50%] \u001b[32mBuilding CXX object CMakeFiles/abc.dir/tests/compression_test.cpp.o\u001b[0m\n",
            "[100%] \u001b[32m\u001b[1mLinking CXX executable ../bin/abc\u001b[0m\n",
            "[100%] Built target abc\n"
          ],
          "name": "stdout"
        }
      ]
    },
    {
      "cell_type": "code",
      "metadata": {
        "colab": {
          "base_uri": "https://localhost:8080/"
        },
        "id": "_IBrqtRYxXUy",
        "outputId": "ac3afbd4-dfb5-4473-9974-adfe5cba9cf9"
      },
      "source": [
        "# 5. Run the program\r\n",
        "\r\n",
        "# Example from the terminal\r\n",
        "# Here I get statistics from datasets. Results will be in two files\r\n",
        "# in the folder gedlib/compression/data/output\r\n",
        "# file stats_datasets.csv and stats_attributes.csv \r\n",
        "\r\n",
        "!../bin/abc dataset_stats 0 acyclic:mao:pah:AIDS ../data/output"
      ],
      "execution_count": 11,
      "outputs": [
        {
          "output_type": "stream",
          "text": [
            "Start: acyclic ... Done (0.207623 s)\n",
            "Start: mao ... Done (0.175668 s)\n",
            "Start: pah ... Done (0.311672 s)\n",
            "Start: AIDS ... Done (7.1116 s)\n"
          ],
          "name": "stdout"
        }
      ]
    },
    {
      "cell_type": "code",
      "metadata": {
        "colab": {
          "base_uri": "https://localhost:8080/"
        },
        "id": "7KS9O8rByU41",
        "outputId": "68a48fe3-c53d-465f-eb58-088f80b83c82"
      },
      "source": [
        "# Look at the files and some information\r\n",
        "stats_datasets = pd.read_csv('../data/output/stats_datasets.csv')\r\n",
        "stats_attributes = pd.read_csv('../data/output/stats_attributes.csv')\r\n",
        "print(\"########### Datasets ###########\",\\\r\n",
        "      stats_datasets.iloc[:,0:5],\"-\"*50,\\\r\n",
        "      \"########### Attributes ###########\", \\\r\n",
        "      stats_attributes.iloc[:,0:7],sep='\\n')"
      ],
      "execution_count": 12,
      "outputs": [
        {
          "output_type": "stream",
          "text": [
            "########### Datasets ###########\n",
            "   dataset  num_graphs  min_num_nodes  max_num_nodes  mean_num_nodes\n",
            "0  acyclic         183              3             11        8.153005\n",
            "1      mao          68             11             27       18.382353\n",
            "2      pah          94             10             28       20.702128\n",
            "3     AIDS        1500              2             95       15.720667\n",
            "--------------------------------------------------\n",
            "########### Attributes ###########\n",
            "    dataset  type_attr attr_name  ...  min_freq  max_freq    mean_freq\n",
            "0   acyclic  node_attr      chem  ...        93      1242   497.000000\n",
            "1   acyclic  edge_attr   valence  ...      1308      1308  1308.000000\n",
            "2       mao  node_attr      chem  ...        47      1067   416.333333\n",
            "3       mao  edge_attr   valence  ...        42      1121   333.500000\n",
            "4       pah  node_attr      chem  ...      1945      1945  1945.000000\n",
            "5       pah  edge_attr   valence  ...      2295      2295  2295.000000\n",
            "6      AIDS  node_attr    charge  ...         7     23161  4716.000000\n",
            "7      AIDS  node_attr      chem  ...         1     14679   693.529412\n",
            "8      AIDS  node_attr    symbol  ...         1     14679   693.529412\n",
            "9      AIDS  node_attr         x  ...         1      1933     7.613820\n",
            "10     AIDS  node_attr         y  ...         1       921     5.527426\n",
            "11     AIDS  edge_attr   valence  ...       121     17928  8122.333333\n",
            "\n",
            "[12 rows x 7 columns]\n"
          ],
          "name": "stdout"
        }
      ]
    },
    {
      "cell_type": "code",
      "metadata": {
        "id": "6rjLBaAkzU1l"
      },
      "source": [
        "'''\r\n",
        "The compression command takes a lot of arguments, so running it from the terminal\r\n",
        "can be unpractical.\r\n",
        "To simplify this I created some bash files. See gedlib/compression/util_files/run.sh\r\n",
        "for an example. There you can define the behaviour of the test program, the datasets,\r\n",
        "number of trials, paths for the output, etc.\r\n",
        "\r\n",
        "I will copy one of the files, change some parameters and run a small test\r\n",
        "\r\n",
        "Results will be in gedlib/compression/data/output/colab_test.csv\r\n",
        "\r\n",
        "'''\r\n",
        "datasets = ['acyclic', 'mao']\r\n",
        "k_values = [20,40,60,80,100]\r\n",
        "num_trials = 2\r\n",
        "\r\n",
        "\r\n",
        "with open('../util_files/line_small.sh') as f:\r\n",
        "  content = ''.join(f.readlines())\r\n",
        "  # Change output file name\r\n",
        "  content = re.sub(r'output_results_file=.+\\n',\\\r\n",
        "                   'output_results_file=\"colab_test.csv\"\\n', \\\r\n",
        "                   content)\r\n",
        "  # Change datasets to use (to make it fast)\r\n",
        "  content = re.sub(r'datasets_names=.+\\n',\\\r\n",
        "                   f'datasets_names=\"{\":\".join(datasets)}\"\\n', \\\r\n",
        "                   content)\r\n",
        "  # Change number of trials. It will be noisy, but this is just a small test\r\n",
        "  content = re.sub(r'num_trials=.+\\n',\\\r\n",
        "                   f'num_trials=\"{num_trials}\"\\n', \\\r\n",
        "                   content)\r\n",
        "  # Change the density paramater (also to make it fast)\r\n",
        "  content = re.sub(r'graph_sample_sizes=.+\\n',\\\r\n",
        "                   f'graph_sample_sizes=\"{\":\".join(k_values)}\"\\n', \\\r\n",
        "                   content)\r\n",
        "with open('./run_colab.sh','w') as f_out:\r\n",
        "  f_out.write(content)\r\n",
        "\r\n",
        "if os.path.isfile('../data/output/colab_test.csv'):\r\n",
        "  os.remove('../data/output/colab_test.csv')\r\n",
        "!bash run_colab.sh"
      ],
      "execution_count": null,
      "outputs": []
    },
    {
      "cell_type": "markdown",
      "metadata": {
        "id": "W-Z6W0_EGuFs"
      },
      "source": [
        "### Looking at the results"
      ]
    },
    {
      "cell_type": "code",
      "metadata": {
        "colab": {
          "base_uri": "https://localhost:8080/",
          "height": 224
        },
        "id": "ocCODXMm0r3b",
        "outputId": "1408e6c3-2780-45aa-fdea-79f104de7bfa"
      },
      "source": [
        "# Now we look at the results\r\n",
        "# 'file_preffix' is the name of the dataset\r\n",
        "results = pd.read_csv('../data/output/colab_test.csv')\r\n",
        "results.head()"
      ],
      "execution_count": 27,
      "outputs": [
        {
          "output_type": "execute_result",
          "data": {
            "text/html": [
              "<div>\n",
              "<style scoped>\n",
              "    .dataframe tbody tr th:only-of-type {\n",
              "        vertical-align: middle;\n",
              "    }\n",
              "\n",
              "    .dataframe tbody tr th {\n",
              "        vertical-align: top;\n",
              "    }\n",
              "\n",
              "    .dataframe thead th {\n",
              "        text-align: right;\n",
              "    }\n",
              "</style>\n",
              "<table border=\"1\" class=\"dataframe\">\n",
              "  <thead>\n",
              "    <tr style=\"text-align: right;\">\n",
              "      <th></th>\n",
              "      <th>file_preffix</th>\n",
              "      <th>edit_costs</th>\n",
              "      <th>relaxed_compression</th>\n",
              "      <th>binary_mode</th>\n",
              "      <th>ged_method</th>\n",
              "      <th>b_ni</th>\n",
              "      <th>b_na</th>\n",
              "      <th>b_ei</th>\n",
              "      <th>b_ea</th>\n",
              "      <th>graph_sample_size</th>\n",
              "      <th>info_file_size</th>\n",
              "      <th>cost_arborescence</th>\n",
              "      <th>k_complexity_a</th>\n",
              "      <th>k_complexity_b</th>\n",
              "      <th>load_time</th>\n",
              "      <th>initialization_time</th>\n",
              "      <th>gedlib_runtime_initial</th>\n",
              "      <th>spanning_arb_runtime</th>\n",
              "      <th>refinement_size</th>\n",
              "      <th>cost_arborescence_refined</th>\n",
              "      <th>gedlib_runtime_refinement</th>\n",
              "      <th>refine_arb_runtime</th>\n",
              "      <th>final_time</th>\n",
              "      <th>num_nodes</th>\n",
              "      <th>num_leafs</th>\n",
              "      <th>avg_degree</th>\n",
              "      <th>min_degree</th>\n",
              "      <th>max_degree</th>\n",
              "      <th>root_degree</th>\n",
              "      <th>avg_depth</th>\n",
              "      <th>max_depth</th>\n",
              "      <th>comp_time</th>\n",
              "      <th>decomp_time</th>\n",
              "      <th>write_time</th>\n",
              "      <th>tar_compressed_size</th>\n",
              "      <th>tar_time</th>\n",
              "    </tr>\n",
              "  </thead>\n",
              "  <tbody>\n",
              "    <tr>\n",
              "      <th>0</th>\n",
              "      <td>acyclic</td>\n",
              "      <td>traditional</td>\n",
              "      <td>True</td>\n",
              "      <td>True</td>\n",
              "      <td>branch_uniform</td>\n",
              "      <td>1</td>\n",
              "      <td>1</td>\n",
              "      <td>1</td>\n",
              "      <td>1</td>\n",
              "      <td>36</td>\n",
              "      <td>413</td>\n",
              "      <td>3072</td>\n",
              "      <td>8647</td>\n",
              "      <td>5602</td>\n",
              "      <td>0.201985</td>\n",
              "      <td>0.027939</td>\n",
              "      <td>2.749506</td>\n",
              "      <td>0.001108</td>\n",
              "      <td>1</td>\n",
              "      <td>2787</td>\n",
              "      <td>1.489472</td>\n",
              "      <td>0.000849</td>\n",
              "      <td>0.030539</td>\n",
              "      <td>184</td>\n",
              "      <td>70</td>\n",
              "      <td>1.605263</td>\n",
              "      <td>1</td>\n",
              "      <td>6</td>\n",
              "      <td>1</td>\n",
              "      <td>15.934783</td>\n",
              "      <td>26</td>\n",
              "      <td>4.509472</td>\n",
              "      <td>0.056894</td>\n",
              "      <td>0.014110</td>\n",
              "      <td>3376</td>\n",
              "      <td>0.028995</td>\n",
              "    </tr>\n",
              "    <tr>\n",
              "      <th>1</th>\n",
              "      <td>acyclic</td>\n",
              "      <td>traditional</td>\n",
              "      <td>True</td>\n",
              "      <td>True</td>\n",
              "      <td>branch_uniform</td>\n",
              "      <td>1</td>\n",
              "      <td>1</td>\n",
              "      <td>1</td>\n",
              "      <td>1</td>\n",
              "      <td>36</td>\n",
              "      <td>413</td>\n",
              "      <td>3027</td>\n",
              "      <td>8647</td>\n",
              "      <td>5602</td>\n",
              "      <td>0.193066</td>\n",
              "      <td>0.032021</td>\n",
              "      <td>2.827189</td>\n",
              "      <td>0.000906</td>\n",
              "      <td>1</td>\n",
              "      <td>2733</td>\n",
              "      <td>1.797578</td>\n",
              "      <td>0.000795</td>\n",
              "      <td>0.034996</td>\n",
              "      <td>184</td>\n",
              "      <td>63</td>\n",
              "      <td>1.512397</td>\n",
              "      <td>1</td>\n",
              "      <td>4</td>\n",
              "      <td>1</td>\n",
              "      <td>25.733696</td>\n",
              "      <td>51</td>\n",
              "      <td>4.893672</td>\n",
              "      <td>0.055337</td>\n",
              "      <td>0.019756</td>\n",
              "      <td>3399</td>\n",
              "      <td>0.030215</td>\n",
              "    </tr>\n",
              "    <tr>\n",
              "      <th>2</th>\n",
              "      <td>acyclic</td>\n",
              "      <td>traditional</td>\n",
              "      <td>True</td>\n",
              "      <td>True</td>\n",
              "      <td>branch_uniform</td>\n",
              "      <td>1</td>\n",
              "      <td>1</td>\n",
              "      <td>1</td>\n",
              "      <td>1</td>\n",
              "      <td>73</td>\n",
              "      <td>413</td>\n",
              "      <td>2752</td>\n",
              "      <td>8647</td>\n",
              "      <td>5602</td>\n",
              "      <td>0.194038</td>\n",
              "      <td>0.028494</td>\n",
              "      <td>5.617842</td>\n",
              "      <td>0.001055</td>\n",
              "      <td>1</td>\n",
              "      <td>2556</td>\n",
              "      <td>1.572281</td>\n",
              "      <td>0.000948</td>\n",
              "      <td>0.030683</td>\n",
              "      <td>184</td>\n",
              "      <td>67</td>\n",
              "      <td>1.564103</td>\n",
              "      <td>1</td>\n",
              "      <td>5</td>\n",
              "      <td>1</td>\n",
              "      <td>19.179348</td>\n",
              "      <td>32</td>\n",
              "      <td>7.459582</td>\n",
              "      <td>0.059460</td>\n",
              "      <td>0.020099</td>\n",
              "      <td>3260</td>\n",
              "      <td>0.030965</td>\n",
              "    </tr>\n",
              "    <tr>\n",
              "      <th>3</th>\n",
              "      <td>acyclic</td>\n",
              "      <td>traditional</td>\n",
              "      <td>True</td>\n",
              "      <td>True</td>\n",
              "      <td>branch_uniform</td>\n",
              "      <td>1</td>\n",
              "      <td>1</td>\n",
              "      <td>1</td>\n",
              "      <td>1</td>\n",
              "      <td>73</td>\n",
              "      <td>413</td>\n",
              "      <td>2687</td>\n",
              "      <td>8647</td>\n",
              "      <td>5602</td>\n",
              "      <td>0.198665</td>\n",
              "      <td>0.029512</td>\n",
              "      <td>5.524544</td>\n",
              "      <td>0.001401</td>\n",
              "      <td>1</td>\n",
              "      <td>2512</td>\n",
              "      <td>1.337553</td>\n",
              "      <td>0.000996</td>\n",
              "      <td>0.030425</td>\n",
              "      <td>184</td>\n",
              "      <td>66</td>\n",
              "      <td>1.550847</td>\n",
              "      <td>1</td>\n",
              "      <td>6</td>\n",
              "      <td>1</td>\n",
              "      <td>19.211957</td>\n",
              "      <td>34</td>\n",
              "      <td>7.136954</td>\n",
              "      <td>0.058763</td>\n",
              "      <td>0.014061</td>\n",
              "      <td>3231</td>\n",
              "      <td>0.027969</td>\n",
              "    </tr>\n",
              "    <tr>\n",
              "      <th>4</th>\n",
              "      <td>acyclic</td>\n",
              "      <td>traditional</td>\n",
              "      <td>True</td>\n",
              "      <td>True</td>\n",
              "      <td>branch_uniform</td>\n",
              "      <td>1</td>\n",
              "      <td>1</td>\n",
              "      <td>1</td>\n",
              "      <td>1</td>\n",
              "      <td>110</td>\n",
              "      <td>413</td>\n",
              "      <td>2535</td>\n",
              "      <td>8647</td>\n",
              "      <td>5602</td>\n",
              "      <td>0.200597</td>\n",
              "      <td>0.029515</td>\n",
              "      <td>8.438324</td>\n",
              "      <td>0.001155</td>\n",
              "      <td>1</td>\n",
              "      <td>2400</td>\n",
              "      <td>1.650103</td>\n",
              "      <td>0.001040</td>\n",
              "      <td>0.037740</td>\n",
              "      <td>184</td>\n",
              "      <td>61</td>\n",
              "      <td>1.487805</td>\n",
              "      <td>1</td>\n",
              "      <td>4</td>\n",
              "      <td>1</td>\n",
              "      <td>20.940217</td>\n",
              "      <td>38</td>\n",
              "      <td>10.379951</td>\n",
              "      <td>0.060693</td>\n",
              "      <td>0.014144</td>\n",
              "      <td>3207</td>\n",
              "      <td>0.029798</td>\n",
              "    </tr>\n",
              "  </tbody>\n",
              "</table>\n",
              "</div>"
            ],
            "text/plain": [
              "  file_preffix   edit_costs  ...  tar_compressed_size  tar_time\n",
              "0      acyclic  traditional  ...                 3376  0.028995\n",
              "1      acyclic  traditional  ...                 3399  0.030215\n",
              "2      acyclic  traditional  ...                 3260  0.030965\n",
              "3      acyclic  traditional  ...                 3231  0.027969\n",
              "4      acyclic  traditional  ...                 3207  0.029798\n",
              "\n",
              "[5 rows x 36 columns]"
            ]
          },
          "metadata": {
            "tags": []
          },
          "execution_count": 27
        }
      ]
    },
    {
      "cell_type": "code",
      "metadata": {
        "colab": {
          "base_uri": "https://localhost:8080/",
          "height": 281
        },
        "id": "iA2hDWBi48r9",
        "outputId": "0ed8f5b6-2dcd-4c0d-ba8e-abab35539a4d"
      },
      "source": [
        "# Let's make a plot of the average compression time taken for the different datasets\r\n",
        "# For some datasets the refinement time is dominant and can have a high variance\r\n",
        "results['k'] = np.ceil(results['graph_sample_size'].apply(int)*10/(results['num_nodes']))*10\r\n",
        "keys = ['file_preffix', 'k']\r\n",
        "to_plot = ['gedlib_runtime_initial',\\\r\n",
        "        'gedlib_runtime_refinement', 'comp_time'] \r\n",
        "keep = keys + to_plot\r\n",
        "df = results.loc[:,keep].groupby(by=['file_preffix', 'k']).mean().reset_index()\r\n",
        "\r\n",
        "N = len(datasets)\r\n",
        "fig, ax = plt.subplots(ncols=N, figsize=(6*N,4))\r\n",
        "for i, d in enumerate(datasets):\r\n",
        "  ax[i].set_title(f'Compression times for {d}')\r\n",
        "  aux = df.loc[df['file_preffix'] ==d,:]  \r\n",
        "  for col in to_plot:\r\n",
        "    ax[i].plot(aux['k'], aux[col], label=col)\r\n",
        "  ax[i].legend()"
      ],
      "execution_count": 78,
      "outputs": [
        {
          "output_type": "display_data",
          "data": {
            "image/png": "[encoded data removed]",
            "text/plain": [
              "<Figure size 864x288 with 2 Axes>"
            ]
          },
          "metadata": {
            "tags": [],
            "needs_background": "light"
          }
        }
      ]
    },
    {
      "cell_type": "markdown",
      "metadata": {
        "id": "tiTpxz9DH9O1"
      },
      "source": [
        "### Checking that the generated collections are isomorphic to the original ones\r\n",
        "When decompressing the compressed graphs we obtain isomorphic (not equal) graphs. Here we check they are indeed isomorphic one by one."
      ]
    },
    {
      "cell_type": "code",
      "metadata": {
        "colab": {
          "base_uri": "https://localhost:8080/"
        },
        "id": "33wupia6Inr-",
        "outputId": "15b19704-b753-41fc-d764-65cb259b272f"
      },
      "source": [
        "cmd = 'python ../util_files/check_iso.py --datasets ' + ' '.join(datasets)\r\n",
        "!eval $cmd"
      ],
      "execution_count": 86,
      "outputs": [
        {
          "output_type": "stream",
          "text": [
            "Sizes: Orig ->  183 , compressed ->  183\n",
            "../../data/collections/acyclic.xml\n",
            " -- All good --\n",
            "Sizes: Orig ->  68 , compressed ->  68\n",
            "../../data/collections/mao.xml\n",
            " -- All good --\n"
          ],
          "name": "stdout"
        }
      ]
    },
    {
      "cell_type": "markdown",
      "metadata": {
        "id": "h14gooQbG295"
      },
      "source": [
        "### Comparing with `tar.bz`\r\n",
        "We wanted to compare the size of the compressed collections to the sizes one would obtain by just using `tar.bz` on the original collection. The `C++` code can get these values. Here is an example of how to do it, and also an example using `python` "
      ]
    },
    {
      "cell_type": "code",
      "metadata": {
        "id": "7pnoekYpPheT"
      },
      "source": [
        "def folder_size(path):\r\n",
        "  total = 0\r\n",
        "  for f in os.listdir(path):\r\n",
        "    total += os.path.getsize(os.path.join(path,f))\r\n",
        "  return total"
      ],
      "execution_count": 109,
      "outputs": []
    },
    {
      "cell_type": "code",
      "metadata": {
        "colab": {
          "base_uri": "https://localhost:8080/"
        },
        "id": "FyQ9aWA6GQ7i",
        "outputId": "b1a60ddf-dd53-4cba-8271-1d9eb18beac7"
      },
      "source": [
        "# Using python is easier using the os library\r\n",
        "\r\n",
        "# Collections were already copied and compressed by the setup.py script\r\n",
        "base = '../data/orig_datasets_to_tar/'\r\n",
        "abc = '../data/output/'\r\n",
        "for d in datasets:\r\n",
        "  print(f'##### Dataset: {d}')\r\n",
        "  print('Orig:\\t\\t{:,d} bytes'.format(folder_size(base + d)))\r\n",
        "  print('Orig + tar:\\t{:,d} bytes'.format(os.path.getsize(base + 'compressed/' + d+'.tar.bz')))\r\n",
        "  print('ABC only:\\t{:,d} bytes'.format(folder_size(abc + d + '/encoded_bin')))\r\n",
        "  print('ABC + tar:\\t{:,d} bytes'.format(os.path.getsize(abc + d + '/encoded_bin.tar.bz')))"
      ],
      "execution_count": 110,
      "outputs": [
        {
          "output_type": "stream",
          "text": [
            "##### Dataset: acyclic\n",
            "Orig:\t\t241,640 bytes\n",
            "Orig + tar:\t4,408 bytes\n",
            "ABC only:\t2,698 bytes\n",
            "ABC + tar:\t3,072 bytes\n",
            "##### Dataset: mao\n",
            "Orig:\t\t195,554 bytes\n",
            "Orig + tar:\t2,350 bytes\n",
            "ABC only:\t1,266 bytes\n",
            "ABC + tar:\t1,269 bytes\n"
          ],
          "name": "stdout"
        }
      ]
    },
    {
      "cell_type": "code",
      "metadata": {
        "id": "hWJlT588Mz_d"
      },
      "source": [
        "# Using the compression module from GEDLIB\r\n",
        "# It will get the size of the original collections and the tar.bz files\r\n",
        "!../bin/abc gxl_sizes 0 acyclic:mao ../data/output ../data/orig_datasets_to_tar/compressed"
      ],
      "execution_count": 99,
      "outputs": []
    },
    {
      "cell_type": "code",
      "metadata": {
        "colab": {
          "base_uri": "https://localhost:8080/"
        },
        "id": "wcAluW_gNkXz",
        "outputId": "dee6f96b-37b6-4547-967a-497dddaad084"
      },
      "source": [
        "# Get the output file\r\n",
        "gxl_sizes = pd.read_csv('../data/output/original_gxl_sizes.csv')\r\n",
        "\r\n",
        "# Cross it with the results we had using ABC compression method\r\n",
        "abc_results = results.loc[results['k']==100,['file_preffix','cost_arborescence_refined', 'tar_compressed_size', 'info_file_size']]\\\r\n",
        "  .rename(columns={'file_preffix':'dataset'}).drop_duplicates('dataset',keep='last').set_index('dataset')\r\n",
        "  \r\n",
        "abc_results['abc_only'] = abc_results['cost_arborescence_refined'] + abc_results['info_file_size']\r\n",
        "abc_results.drop(columns=['cost_arborescence_refined', 'info_file_size'])\r\n",
        "df = gxl_sizes.set_index('dataset').join(abc_results, on='dataset')\r\n",
        "\r\n",
        "for d in datasets:\r\n",
        "  print(f'##### Dataset: {d}')\r\n",
        "  print('Orig:\\t\\t{:,d} bytes'.format(df.loc[d,'total_size']))\r\n",
        "  print('Orig + tar:\\t{:,d} bytes'.format(df.loc[d,'tar_size']))\r\n",
        "\r\n",
        "  print('ABC only:\\t{:,d} bytes'.format(df.loc[d,'abc_only']))\r\n",
        "  print('ABC + tar:\\t{:,d} bytes'.format(df.loc[d,'tar_compressed_size']))"
      ],
      "execution_count": 136,
      "outputs": [
        {
          "output_type": "stream",
          "text": [
            "##### Dataset: acyclic\n",
            "Orig:\t\t241,640 bytes\n",
            "Orig + tar:\t4,408 bytes\n",
            "ABC only:\t2,698 bytes\n",
            "ABC + tar:\t3,072 bytes\n",
            "##### Dataset: mao\n",
            "Orig:\t\t195,554 bytes\n",
            "Orig + tar:\t2,350 bytes\n",
            "ABC only:\t1,266 bytes\n",
            "ABC + tar:\t1,269 bytes\n"
          ],
          "name": "stdout"
        }
      ]
    }
  ]
}
